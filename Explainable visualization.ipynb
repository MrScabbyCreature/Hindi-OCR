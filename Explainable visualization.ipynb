{
 "cells": [
  {
   "cell_type": "code",
   "execution_count": 1,
   "metadata": {},
   "outputs": [
    {
     "name": "stderr",
     "output_type": "stream",
     "text": [
      "Using TensorFlow backend.\n"
     ]
    }
   ],
   "source": [
    "import numpy as np\n",
    "import pandas as pd\n",
    "import pickle\n",
    "from matplotlib import pyplot as plt\n",
    "from sklearn.model_selection import train_test_split\n",
    "from keras.models import Sequential, save_model\n",
    "from keras.layers import Dense, Dropout, Activation, Flatten\n",
    "from keras.layers import Conv2D, MaxPooling2D\n",
    "from keras.utils import np_utils\n",
    "from keras import optimizers\n",
    "import keras\n",
    "# from keras.applications.xception import Xception\n",
    "# from keras.applications.resnet50 import ResNet50\n",
    "# from keras.applications.vgg16 import VGG16\n",
    "# from keras.applications.vgg19 import VGG19\n",
    "# from keras.applications.inception_v3 import InceptionV3\n",
    "# from keras.applications.mobilenetv2 import MobileNetV2\n",
    "# from keras.applications.densenet import DenseNet121\n",
    "import cv2\n",
    "import os\n",
    "import seaborn as sns\n",
    "# from keras.preprocessing.image import load_img, img_to_array\n",
    "\n",
    "\n",
    "import warnings\n",
    "warnings.filterwarnings('ignore')\n",
    "\n",
    "def display_image(image, title=''):\n",
    "    cv2.imshow(title, image)\n",
    "    cv2.waitKey(0)\n",
    "    cv2.destroyAllWindows()"
   ]
  },
  {
   "cell_type": "markdown",
   "metadata": {},
   "source": [
    "# load data"
   ]
  },
  {
   "cell_type": "code",
   "execution_count": 2,
   "metadata": {
    "scrolled": true
   },
   "outputs": [
    {
     "name": "stdout",
     "output_type": "stream",
     "text": [
      "Data of format:\n",
      "data_length(द) = 2000\n",
      "data_length(त्र) = 2000\n",
      "data_length(ठ) = 2000\n",
      "data_length(स) = 2000\n",
      "data_length(छ) = 2000\n",
      "data_length(ड) = 2000\n",
      "data_length(ष) = 2000\n",
      "data_length(थ) = 2000\n",
      "data_length(क्ष) = 2000\n",
      "data_length(च) = 2000\n",
      "data_length(ह) = 2000\n",
      "data_length(ध) = 2000\n",
      "data_length(ङ) = 2000\n",
      "data_length(न) = 2000\n",
      "data_length(झ) = 2000\n",
      "data_length(म) = 2000\n",
      "data_length(ट) = 2000\n",
      "data_length(ग) = 2000\n",
      "data_length(ढ) = 2000\n",
      "data_length(य) = 2000\n",
      "data_length(ब) = 2000\n",
      "data_length(ण) = 2000\n",
      "data_length(ल) = 2000\n",
      "data_length(ज्ञ) = 2000\n",
      "data_length(र) = 2000\n",
      "data_length(ञ) = 2000\n",
      "data_length(श) = 2000\n",
      "data_length(क) = 2000\n",
      "data_length(घ) = 2000\n",
      "data_length(त) = 2000\n",
      "data_length(प) = 2000\n",
      "data_length(भ) = 2000\n",
      "data_length(ज) = 2000\n",
      "data_length(फ) = 2000\n",
      "data_length(ख) = 2000\n",
      "data_length(व) = 2000\n"
     ]
    }
   ],
   "source": [
    "#vgg can't take input of 28x28 so we shall resize all our images\n",
    "pickle_folder = \"pickle files\"\n",
    "input_shape=(32, 32, 1)\n",
    "data = pickle.load(open('data.pickle', 'rb'))\n",
    "print(\"Data of format:\")\n",
    "for ch in data:\n",
    "    print(\"data_length(\" + ch + \") =\", len(data[ch]))\n",
    "\n",
    "#no. of classes\n",
    "classes = len(data.keys())"
   ]
  },
  {
   "cell_type": "code",
   "execution_count": 3,
   "metadata": {},
   "outputs": [],
   "source": [
    "for ch in data:\n",
    "    data[ch] = data[ch][0]\n",
    "    data[ch] = cv2.resize(data[ch], (input_shape[0], input_shape[1])).reshape((input_shape[0], input_shape[1], 1))"
   ]
  },
  {
   "cell_type": "markdown",
   "metadata": {},
   "source": [
    "# CNN"
   ]
  },
  {
   "cell_type": "code",
   "execution_count": 4,
   "metadata": {},
   "outputs": [
    {
     "name": "stdout",
     "output_type": "stream",
     "text": [
      "GPUs: ['/job:localhost/replica:0/task:0/device:GPU:0']\n",
      "input shape: (32, 32, 1)\n",
      "classes: 36\n"
     ]
    }
   ],
   "source": [
    "import tensorflow as tf\n",
    "from keras import backend as k\n",
    " \n",
    "###################################\n",
    "# TensorFlow wizardry\n",
    "config = tf.ConfigProto()\n",
    " \n",
    "# Don't pre-allocate memory; allocate as-needed\n",
    "config.gpu_options.allow_growth = True\n",
    " \n",
    "# Only allow a total of half the GPU memory to be allocated\n",
    "# config.gpu_options.per_process_gpu_memory_fraction = 0.5\n",
    " \n",
    "# Create a session with the above options specified.\n",
    "k.tensorflow_backend.set_session(tf.Session(config=config))\n",
    "\n",
    "\n",
    "print(\"GPUs:\", k.tensorflow_backend._get_available_gpus())\n",
    "\n",
    "print(\"input shape:\", input_shape)\n",
    "print(\"classes:\", classes)\n",
    "\n",
    "def get_model_memory_usage(batch_size, model):\n",
    "    import numpy as np\n",
    "    from keras import backend as K\n",
    "\n",
    "    shapes_mem_count = 0\n",
    "    for l in model.layers:\n",
    "        single_layer_mem = 1\n",
    "        for s in l.output_shape:\n",
    "            if s is None:\n",
    "                continue\n",
    "            single_layer_mem *= s\n",
    "        shapes_mem_count += single_layer_mem\n",
    "\n",
    "    trainable_count = np.sum([K.count_params(p) for p in set(model.trainable_weights)])\n",
    "    non_trainable_count = np.sum([K.count_params(p) for p in set(model.non_trainable_weights)])\n",
    "\n",
    "    total_memory = 4.0*batch_size*(shapes_mem_count + trainable_count + non_trainable_count)\n",
    "    gbytes = np.round(total_memory / (1024.0 ** 3), 3)\n",
    "    return gbytes"
   ]
  },
  {
   "cell_type": "markdown",
   "metadata": {},
   "source": [
    "creating the model below"
   ]
  },
  {
   "cell_type": "code",
   "execution_count": 5,
   "metadata": {},
   "outputs": [],
   "source": [
    "# path_to_model = \"pickle files/36/Lenet_ब_य_ञ_त_क्ष_फ_ठ_स_छ_ज्ञ_च_ण_द_र_ट_म_प_क_ङ_भ_न_ल_ह_त्र_ज_ख_झ_थ_घ_श_ष_ग_व_ढ_ड_ध.h5\"\n",
    "\n",
    "path_to_model = \"pickle files/2-5 permutations/Lenet_क_व.h5\"\n",
    "model = keras.models.load_model(os.path.join(path_to_model))"
   ]
  },
  {
   "cell_type": "markdown",
   "metadata": {},
   "source": [
    "# Class Activations"
   ]
  },
  {
   "cell_type": "code",
   "execution_count": 30,
   "metadata": {},
   "outputs": [
    {
     "data": {
      "text/plain": [
       "<matplotlib.image.AxesImage at 0x7fc6f63db0b8>"
      ]
     },
     "execution_count": 30,
     "metadata": {},
     "output_type": "execute_result"
    },
    {
     "data": {
      "image/png": "[encoded data removed]",
      "text/plain": [
       "<Figure size 1296x432 with 1 Axes>"
      ]
     },
     "metadata": {
      "needs_background": "light"
     },
     "output_type": "display_data"
    }
   ],
   "source": [
    "from vis.input_modifiers import Jitter\n",
    "from vis.visualization import visualize_activation\n",
    "from vis.utils import utils\n",
    "from keras import activations\n",
    "\n",
    "layer_idx = -1\n",
    "ch = 'म'\n",
    "\n",
    "# Swap softmax with linear\n",
    "model.layers[layer_idx].activation = activations.linear\n",
    "model = utils.apply_modifications(model)\n",
    "\n",
    "from matplotlib import pyplot as plt\n",
    "%matplotlib inline\n",
    "plt.rcParams['figure.figsize'] = (18, 6)\n",
    "\n",
    "# 20 is the imagenet category for 'ouzel'\n",
    "#, backprop_modifier='relu', grad_modifier=None\n",
    "#, input_modifiers=[Jitter(16)]\n",
    "img = visualize_activation(model, -1, filter_indices=None, seed_input=data[ch], input_modifiers=[Jitter(16)])\n",
    "plt.imshow(img.reshape(img.shape[:2]))"
   ]
  },
  {
   "cell_type": "code",
   "execution_count": 32,
   "metadata": {},
   "outputs": [
    {
     "name": "stdout",
     "output_type": "stream",
     "text": [
      "0 conv2d_19\n",
      "1 max_pooling2d_13\n",
      "2 dropout_19\n",
      "3 conv2d_20\n",
      "4 max_pooling2d_14\n",
      "5 dropout_20\n",
      "6 conv2d_21\n",
      "7 flatten_7\n",
      "8 dense_13\n",
      "9 dropout_21\n",
      "10 dense_14\n"
     ]
    }
   ],
   "source": [
    "count = 0\n",
    "for layer in model.layers:\n",
    "    print(count, layer.name)\n",
    "    count += 1"
   ]
  },
  {
   "cell_type": "code",
   "execution_count": 106,
   "metadata": {},
   "outputs": [
    {
     "name": "stdout",
     "output_type": "stream",
     "text": [
      "255 (32, 32, 1)\n"
     ]
    }
   ],
   "source": [
    "img = (data['म']*255+0.001).astype(np.uint8)\n",
    "\n",
    "print(img.max(), img.shape)"
   ]
  },
  {
   "cell_type": "code",
   "execution_count": null,
   "metadata": {},
   "outputs": [],
   "source": [
    "import numpy as np\n",
    "import matplotlib.cm as cm\n",
    "from vis.visualization import visualize_cam, overlay\n",
    "\n",
    "# penultimate_layer = utils.find_layer_idx(model, 'dense_14')\n",
    "layer_idx = 10\n",
    "penultimate_layer = 9\n",
    "\n",
    "# for modifier in [None, 'guided', 'relu']:\n",
    "#     plt.figure()\n",
    "#     f, ax = plt.subplots(1, 2)\n",
    "#     plt.suptitle(\"vanilla\" if modifier is None else modifier)\n",
    "#     for i, img in enumerate([data[ch], data[ch]]):    \n",
    "        # 20 is the imagenet index corresponding to `ouzel`\n",
    "grads = visualize_cam(model, layer_idx, filter_indices=20, \n",
    "                      seed_input=img, penultimate_layer_idx=7, \n",
    "                      backprop_modifier='relu')  \n",
    "\n",
    "jet_heatmap = np.uint8(cm.jet(grads)[..., :3] * 255)\n",
    "f, ax = plt.subplots(3, 1)\n",
    "ax[0].imshow(cv2.cvtColor(img, cv2.COLOR_GRAY2RGB))\n",
    "ax[1].imshow(jet_heatmap)\n",
    "ax[2].imshow(overlay(jet_heatmap, cv2.cvtColor(img, cv2.COLOR_GRAY2BGR)))\n",
    "# plt.show()\n",
    "\n",
    "        # Lets overlay the heatmap onto original image.    \n",
    "#         jet_heatmap = np.uint8(cm.jet(grads)[..., :3] * 255)\n",
    "#         ax[i].imshow(overlay(jet_heatmap, img))"
   ]
  },
  {
   "cell_type": "code",
   "execution_count": 118,
   "metadata": {},
   "outputs": [
    {
     "data": {
      "text/plain": [
       "0.0"
      ]
     },
     "execution_count": 118,
     "metadata": {},
     "output_type": "execute_result"
    }
   ],
   "source": [
    "grads.min()"
   ]
  },
  {
   "cell_type": "code",
   "execution_count": 114,
   "metadata": {},
   "outputs": [
    {
     "data": {
      "text/plain": [
       "(array([127], dtype=uint8), array([1024]))"
      ]
     },
     "execution_count": 114,
     "metadata": {},
     "output_type": "execute_result"
    }
   ],
   "source": [
    "np.unique(jet_heatmap[:, :, 2], return_counts=True)"
   ]
  },
  {
   "cell_type": "markdown",
   "metadata": {},
   "source": [
    "# visualizations (layers)"
   ]
  },
  {
   "cell_type": "code",
   "execution_count": 6,
   "metadata": {},
   "outputs": [
    {
     "name": "stdout",
     "output_type": "stream",
     "text": [
      "0 (32, 32)\n"
     ]
    },
    {
     "data": {
      "image/png": "[encoded data removed]",
      "text/plain": [
       "<Figure size 432x288 with 1 Axes>"
      ]
     },
     "metadata": {
      "needs_background": "light"
     },
     "output_type": "display_data"
    }
   ],
   "source": [
    "from vis.visualization import visualize_saliency\n",
    "from vis.utils import utils\n",
    "from keras import activations\n",
    "import time\n",
    "\n",
    "# Swap softmax with linear\n",
    "model.layers[-1].activation = activations.linear\n",
    "model = utils.apply_modifications(model)\n",
    "\n",
    "# character\n",
    "ch = 'म'\n",
    "\n",
    "# Utility to search for layer index by name. \n",
    "# Alternatively we can specify this as -1 since it corresponds to the last layer.\n",
    "for layer in model.layers:\n",
    "    if layer.name.split('_')[0] != 'dropout':\n",
    "        layer_idx = utils.find_layer_idx(model, layer.name)\n",
    "        \n",
    "        grads = visualize_saliency(model, layer_idx, filter_indices=None, \n",
    "                                   seed_input=data[ch], backprop_modifier='guided')\n",
    "        print(layer_idx, grads.shape)\n",
    "        plt.imshow(grads, cmap='jet')\n",
    "        plt.show()\n",
    "        break\n",
    "#         for i, modifier in enumerate([None, 'guided', 'relu']):\n",
    "#             grads = visualize_saliency(model, layer_idx, filter_indices=count, \n",
    "#                                        seed_input=data[ch], backprop_modifier=modifier)\n",
    "#             if modifier is None:\n",
    "#                 modifier = 'vanilla'\n",
    "#             ax[i+1].set_title(modifier)    \n",
    "#             ax[i+1].imshow(grads, cmap='jet')\n",
    "#         ax[4].set_title(\"negate\")\n",
    "#         ax[4].imshow(visualize_saliency(model, layer_idx, filter_indices=count, seed_input=data[ch], \n",
    "#                                backprop_modifier='guided', grad_modifier='negate'))\n",
    "#         count += 1\n",
    "#         print(\"Took {} seconds to complete for {}\".format(time.time() - start, ch))"
   ]
  },
  {
   "cell_type": "markdown",
   "metadata": {},
   "source": [
    "# visualizations (characters)"
   ]
  },
  {
   "cell_type": "code",
   "execution_count": 6,
   "metadata": {},
   "outputs": [],
   "source": [
    "from vis.visualization import visualize_saliency\n",
    "from vis.utils import utils\n",
    "from keras import activations\n",
    "\n",
    "# Utility to search for layer index by name. \n",
    "# Alternatively we can specify this as -1 since it corresponds to the last layer.\n",
    "# layer_idx = utils.find_layer_idx(model, 'pred')\n",
    "layer_idx = -1\n",
    "\n",
    "# Swap softmax with linear\n",
    "model.layers[layer_idx].activation = activations.linear\n",
    "model = utils.apply_modifications(model)"
   ]
  },
  {
   "cell_type": "code",
   "execution_count": null,
   "metadata": {},
   "outputs": [],
   "source": [
    "import time\n",
    "\n",
    "count = 0\n",
    "for ch in data:\n",
    "    start = time.time()\n",
    "    f, ax = plt.subplots(1, 5, figsize=(15, 3))\n",
    "    ax[0].imshow(data[ch].reshape(*input_shape[:2]))\n",
    "    \n",
    "    for i, modifier in enumerate([None, 'guided', 'relu']):\n",
    "        grads = visualize_saliency(model, layer_idx, filter_indices=count, \n",
    "                                   seed_input=data[ch], backprop_modifier=modifier)\n",
    "        if modifier is None:\n",
    "            modifier = 'vanilla'\n",
    "        ax[i+1].set_title(modifier)    \n",
    "        ax[i+1].imshow(grads, cmap='jet')\n",
    "    ax[4].set_title(\"negate\")\n",
    "    ax[4].imshow(visualize_saliency(model, layer_idx, filter_indices=count, seed_input=data[ch], \n",
    "                           backprop_modifier='guided', grad_modifier='negate'))\n",
    "    count += 1\n",
    "    print(\"Took {} seconds to complete for {}\".format(time.time() - start, ch))"
   ]
  }
 ],
 "metadata": {
  "kernelspec": {
   "display_name": "Python 3",
   "language": "python",
   "name": "python3"
  },
  "language_info": {
   "codemirror_mode": {
    "name": "ipython",
    "version": 3
   },
   "file_extension": ".py",
   "mimetype": "text/x-python",
   "name": "python",
   "nbconvert_exporter": "python",
   "pygments_lexer": "ipython3",
   "version": "3.5.2"
  }
 },
 "nbformat": 4,
 "nbformat_minor": 2
}
