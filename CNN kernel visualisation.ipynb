{
 "cells": [
  {
   "cell_type": "code",
   "execution_count": 1,
   "metadata": {},
   "outputs": [
    {
     "name": "stderr",
     "output_type": "stream",
     "text": [
      "Using TensorFlow backend.\n"
     ]
    }
   ],
   "source": [
    "import numpy as np\n",
    "import pandas as pd\n",
    "import pickle\n",
    "from matplotlib import pyplot as plt\n",
    "from sklearn.model_selection import train_test_split\n",
    "from keras.models import Sequential, save_model\n",
    "from keras.layers import Dense, Dropout, Activation, Flatten\n",
    "from keras.layers import Conv2D, MaxPooling2D\n",
    "from keras.utils import np_utils\n",
    "from keras import optimizers\n",
    "import keras\n",
    "# from keras.applications.xception import Xception\n",
    "# from keras.applications.resnet50 import ResNet50\n",
    "# from keras.applications.vgg16 import VGG16\n",
    "# from keras.applications.vgg19 import VGG19\n",
    "# from keras.applications.inception_v3 import InceptionV3\n",
    "# from keras.applications.mobilenetv2 import MobileNetV2\n",
    "# from keras.applications.densenet import DenseNet121\n",
    "import cv2\n",
    "import os\n",
    "import seaborn as sns\n",
    "# from keras.preprocessing.image import load_img, img_to_array\n",
    "\n",
    "\n",
    "import warnings\n",
    "warnings.filterwarnings('ignore')\n",
    "\n",
    "def display_image(image, title=''):\n",
    "    cv2.imshow(title, image)\n",
    "    cv2.waitKey(0)\n",
    "    cv2.destroyAllWindows()"
   ]
  },
  {
   "cell_type": "markdown",
   "metadata": {},
   "source": [
    "# load data"
   ]
  },
  {
   "cell_type": "code",
   "execution_count": 2,
   "metadata": {
    "scrolled": true
   },
   "outputs": [
    {
     "name": "stdout",
     "output_type": "stream",
     "text": [
      "Data of format:\n",
      "data_length(त्र) = 205\n",
      "data_length(प) = 205\n",
      "data_length(ग) = 205\n",
      "data_length(र) = 205\n",
      "data_length(ठ) = 205\n",
      "data_length(ह) = 205\n",
      "data_length(क्ष) = 205\n",
      "data_length(ए) = 221\n",
      "data_length(भ) = 205\n",
      "data_length(झ) = 205\n",
      "data_length(छ) = 205\n",
      "data_length(घ) = 205\n",
      "data_length(श) = 205\n",
      "data_length(न) = 205\n",
      "data_length(उ) = 221\n",
      "data_length(द) = 205\n",
      "data_length(स) = 205\n",
      "data_length(ण) = 205\n",
      "data_length(ञ) = 205\n",
      "data_length(ज्ञ) = 205\n",
      "data_length(ल) = 205\n",
      "data_length(व) = 205\n",
      "data_length(ट) = 205\n",
      "data_length(ड) = 205\n",
      "data_length(ब) = 205\n",
      "data_length(त) = 205\n",
      "data_length(ध) = 205\n",
      "data_length(इ) = 221\n",
      "data_length(ख) = 205\n",
      "data_length(य) = 205\n",
      "data_length(फ) = 205\n",
      "data_length(थ) = 205\n",
      "data_length(क) = 205\n",
      "data_length(ङ) = 205\n",
      "data_length(म) = 205\n",
      "data_length(अ) = 221\n",
      "data_length(च) = 205\n",
      "data_length(ऊ) = 221\n",
      "data_length(ष) = 205\n",
      "data_length(ढ) = 205\n",
      "data_length(ज) = 205\n"
     ]
    }
   ],
   "source": [
    "#vgg can't take input of 28x28 so we shall resize all our images\n",
    "pickle_folder = \"pickle files\"\n",
    "input_shape=(84, 84, 1)\n",
    "data = pickle.load(open('data.pickle', 'rb'))\n",
    "print(\"Data of format:\")\n",
    "for ch in data:\n",
    "    print(\"data_length(\" + ch + \") =\", len(data[ch]))\n",
    "\n",
    "#no. of classes\n",
    "classes = len(data.keys())"
   ]
  },
  {
   "cell_type": "markdown",
   "metadata": {},
   "source": [
    "# Rearranging data in input-output format"
   ]
  },
  {
   "cell_type": "code",
   "execution_count": 3,
   "metadata": {},
   "outputs": [
    {
     "name": "stdout",
     "output_type": "stream",
     "text": [
      "Unpickled\n"
     ]
    }
   ],
   "source": [
    "file = \"class_numerals_{}.pickle\".format(classes)\n",
    "if file in os.listdir(pickle_folder):\n",
    "    class_numerals = pickle.load(open(os.path.join(pickle_folder, file), 'rb'))\n",
    "    print(\"Unpickled\")\n",
    "else:\n",
    "    class_numerals = {i:list(data.keys())[i] for i in range(classes)}\n",
    "    pickle.dump(class_numerals, open(os.path.join(pickle_folder, file), 'wb'))\n",
    "    print(\"Error. Incompatible. Pickled new file:\", file)\n",
    "def character_to_encoding(char, classes=classes):\n",
    "    for i in class_numerals:\n",
    "        if class_numerals[i] == char:\n",
    "            return np_utils.to_categorical(i, classes)\n",
    "\n",
    "def encoding_to_character(encoding):\n",
    "    return class_numerals[encoding.argmax()]"
   ]
  },
  {
   "cell_type": "code",
   "execution_count": 4,
   "metadata": {},
   "outputs": [
    {
     "name": "stdout",
     "output_type": "stream",
     "text": [
      "(8485, 84, 84, 1) (8485, 41)\n"
     ]
    }
   ],
   "source": [
    "X = []\n",
    "y = []\n",
    "\n",
    "for ch in data:\n",
    "    X += data[ch]\n",
    "    y += [ch] * len(data[ch])\n",
    "    \n",
    "#resizing input image and preprocessin\n",
    "X = np.array(list(map(lambda x: cv2.resize(x/255, (input_shape[0], input_shape[1])).reshape((input_shape[0], input_shape[1], 1)), X)))\n",
    "y_ = np.array(list(map(lambda x: character_to_encoding(x, classes), y)))\n",
    "\n",
    "print(X.shape, y_.shape)"
   ]
  },
  {
   "cell_type": "markdown",
   "metadata": {},
   "source": [
    "# Train-Test split"
   ]
  },
  {
   "cell_type": "code",
   "execution_count": 5,
   "metadata": {},
   "outputs": [
    {
     "data": {
      "text/plain": [
       "((6788, 84, 84, 1), (6788, 41), (1697, 84, 84, 1), (1697, 41))"
      ]
     },
     "execution_count": 5,
     "metadata": {},
     "output_type": "execute_result"
    }
   ],
   "source": [
    "train_ratio = 0.8\n",
    "X_train, X_test, y_train, y_test = train_test_split(X, y_, train_size=0.8, random_state=20, shuffle=True, stratify=y)\n",
    "\n",
    "X_train.shape, y_train.shape, X_test.shape, y_test.shape"
   ]
  },
  {
   "cell_type": "markdown",
   "metadata": {},
   "source": [
    "# CNN"
   ]
  },
  {
   "cell_type": "code",
   "execution_count": 6,
   "metadata": {},
   "outputs": [
    {
     "name": "stdout",
     "output_type": "stream",
     "text": [
      "GPUs: ['/job:localhost/replica:0/task:0/device:GPU:0']\n",
      "input shape: (84, 84, 1)\n",
      "classes: 41\n"
     ]
    }
   ],
   "source": [
    "import tensorflow as tf\n",
    "from keras import backend as k\n",
    " \n",
    "###################################\n",
    "# TensorFlow wizardry\n",
    "config = tf.ConfigProto()\n",
    " \n",
    "# Don't pre-allocate memory; allocate as-needed\n",
    "config.gpu_options.allow_growth = True\n",
    " \n",
    "# Only allow a total of half the GPU memory to be allocated\n",
    "# config.gpu_options.per_process_gpu_memory_fraction = 0.5\n",
    " \n",
    "# Create a session with the above options specified.\n",
    "k.tensorflow_backend.set_session(tf.Session(config=config))\n",
    "\n",
    "\n",
    "print(\"GPUs:\", k.tensorflow_backend._get_available_gpus())\n",
    "\n",
    "print(\"input shape:\", input_shape)\n",
    "print(\"classes:\", classes)\n",
    "\n",
    "def get_model_memory_usage(batch_size, model):\n",
    "    import numpy as np\n",
    "    from keras import backend as K\n",
    "\n",
    "    shapes_mem_count = 0\n",
    "    for l in model.layers:\n",
    "        single_layer_mem = 1\n",
    "        for s in l.output_shape:\n",
    "            if s is None:\n",
    "                continue\n",
    "            single_layer_mem *= s\n",
    "        shapes_mem_count += single_layer_mem\n",
    "\n",
    "    trainable_count = np.sum([K.count_params(p) for p in set(model.trainable_weights)])\n",
    "    non_trainable_count = np.sum([K.count_params(p) for p in set(model.non_trainable_weights)])\n",
    "\n",
    "    total_memory = 4.0*batch_size*(shapes_mem_count + trainable_count + non_trainable_count)\n",
    "    gbytes = np.round(total_memory / (1024.0 ** 3), 3)\n",
    "    return gbytes"
   ]
  },
  {
   "cell_type": "markdown",
   "metadata": {},
   "source": [
    "creating the model below"
   ]
  },
  {
   "cell_type": "code",
   "execution_count": 15,
   "metadata": {
    "scrolled": true
   },
   "outputs": [
    {
     "name": "stdout",
     "output_type": "stream",
     "text": [
      "_________________________________________________________________\n",
      "Layer (type)                 Output Shape              Param #   \n",
      "=================================================================\n",
      "conv2d_5 (Conv2D)            (None, 76, 76, 32)        2624      \n",
      "_________________________________________________________________\n",
      "max_pooling2d_5 (MaxPooling2 (None, 25, 25, 32)        0         \n",
      "_________________________________________________________________\n",
      "conv2d_6 (Conv2D)            (None, 23, 23, 64)        18496     \n",
      "_________________________________________________________________\n",
      "max_pooling2d_6 (MaxPooling2 (None, 11, 11, 64)        0         \n",
      "_________________________________________________________________\n",
      "dropout_5 (Dropout)          (None, 11, 11, 64)        0         \n",
      "_________________________________________________________________\n",
      "flatten_3 (Flatten)          (None, 7744)              0         \n",
      "_________________________________________________________________\n",
      "dense_5 (Dense)              (None, 768)               5948160   \n",
      "_________________________________________________________________\n",
      "dropout_6 (Dropout)          (None, 768)               0         \n",
      "_________________________________________________________________\n",
      "dense_6 (Dense)              (None, 41)                31529     \n",
      "=================================================================\n",
      "Total params: 6,000,809\n",
      "Trainable params: 6,000,809\n",
      "Non-trainable params: 0\n",
      "_________________________________________________________________\n",
      "None\n",
      "\n",
      "############################\n",
      "## Memory usage: 0.747 GB ##\n",
      "############################\n",
      "\n",
      "Train on 5769 samples, validate on 1019 samples\n",
      "Epoch 1/500\n",
      "5769/5769 [==============================] - 78s 13ms/step - loss: 13.1549 - acc: 0.0823 - val_loss: 4.9831 - val_acc: 0.2591\n",
      "Epoch 2/500\n",
      "5769/5769 [==============================] - 71s 12ms/step - loss: 4.0778 - acc: 0.2092 - val_loss: 3.3614 - val_acc: 0.3641\n",
      "Epoch 3/500\n",
      "5769/5769 [==============================] - 71s 12ms/step - loss: 3.4150 - acc: 0.2917 - val_loss: 2.9615 - val_acc: 0.4946\n",
      "Epoch 4/500\n",
      "5769/5769 [==============================] - 71s 12ms/step - loss: 3.1679 - acc: 0.3382 - val_loss: 2.7138 - val_acc: 0.5015\n",
      "Epoch 5/500\n",
      "5769/5769 [==============================] - 71s 12ms/step - loss: 3.0088 - acc: 0.3730 - val_loss: 2.5807 - val_acc: 0.5790\n",
      "Epoch 6/500\n",
      "5769/5769 [==============================] - 71s 12ms/step - loss: 2.9326 - acc: 0.4028 - val_loss: 2.6369 - val_acc: 0.5486\n",
      "Epoch 7/500\n",
      "5769/5769 [==============================] - 71s 12ms/step - loss: 2.8577 - acc: 0.4125 - val_loss: 2.5259 - val_acc: 0.5594\n",
      "Epoch 8/500\n",
      "5769/5769 [==============================] - 71s 12ms/step - loss: 2.8273 - acc: 0.4191 - val_loss: 2.4756 - val_acc: 0.5711\n",
      "Epoch 9/500\n",
      "5769/5769 [==============================] - 71s 12ms/step - loss: 2.7719 - acc: 0.4431 - val_loss: 2.3753 - val_acc: 0.6084\n",
      "Epoch 10/500\n",
      "5769/5769 [==============================] - 71s 12ms/step - loss: 2.7549 - acc: 0.4500 - val_loss: 2.3978 - val_acc: 0.5780\n",
      "Epoch 11/500\n",
      "5769/5769 [==============================] - 71s 12ms/step - loss: 2.7314 - acc: 0.4545 - val_loss: 2.3410 - val_acc: 0.6006\n",
      "Epoch 12/500\n",
      "5769/5769 [==============================] - 71s 12ms/step - loss: 2.7086 - acc: 0.4625 - val_loss: 2.2876 - val_acc: 0.6457\n",
      "Epoch 13/500\n",
      "5769/5769 [==============================] - 71s 12ms/step - loss: 2.6889 - acc: 0.4689 - val_loss: 2.3561 - val_acc: 0.6153\n",
      "Epoch 14/500\n",
      "5769/5769 [==============================] - 71s 12ms/step - loss: 2.6934 - acc: 0.4732 - val_loss: 2.2556 - val_acc: 0.6438\n",
      "Epoch 15/500\n",
      "5769/5769 [==============================] - 71s 12ms/step - loss: 2.6745 - acc: 0.4711 - val_loss: 2.2399 - val_acc: 0.6438\n",
      "Epoch 16/500\n",
      "5769/5769 [==============================] - 71s 12ms/step - loss: 2.6547 - acc: 0.4836 - val_loss: 2.2203 - val_acc: 0.6487\n",
      "Epoch 17/500\n",
      "5769/5769 [==============================] - 71s 12ms/step - loss: 2.6608 - acc: 0.4860 - val_loss: 2.2476 - val_acc: 0.6457\n",
      "Epoch 18/500\n",
      "5769/5769 [==============================] - 71s 12ms/step - loss: 2.6489 - acc: 0.4803 - val_loss: 2.3390 - val_acc: 0.6163\n",
      "Epoch 19/500\n",
      "5769/5769 [==============================] - 71s 12ms/step - loss: 2.6395 - acc: 0.4987 - val_loss: 2.2431 - val_acc: 0.6487\n",
      "Epoch 20/500\n",
      "5769/5769 [==============================] - 71s 12ms/step - loss: 2.6304 - acc: 0.4873 - val_loss: 2.2252 - val_acc: 0.6860\n",
      "Epoch 21/500\n",
      "5769/5769 [==============================] - 71s 12ms/step - loss: 2.6164 - acc: 0.4994 - val_loss: 2.2803 - val_acc: 0.6222\n",
      "Epoch 22/500\n",
      "5769/5769 [==============================] - 71s 12ms/step - loss: 2.6329 - acc: 0.4971 - val_loss: 2.2713 - val_acc: 0.6359\n",
      "Epoch 23/500\n",
      "5769/5769 [==============================] - 71s 12ms/step - loss: 2.6016 - acc: 0.5065 - val_loss: 2.2726 - val_acc: 0.6497\n",
      "Epoch 24/500\n",
      "5769/5769 [==============================] - 71s 12ms/step - loss: 2.5806 - acc: 0.5051 - val_loss: 2.1567 - val_acc: 0.6487\n",
      "Epoch 25/500\n",
      "5769/5769 [==============================] - 71s 12ms/step - loss: 2.6223 - acc: 0.4926 - val_loss: 2.2705 - val_acc: 0.6261\n",
      "Epoch 26/500\n",
      "5769/5769 [==============================] - 71s 12ms/step - loss: 2.6039 - acc: 0.5081 - val_loss: 2.2467 - val_acc: 0.6359\n",
      "Epoch 27/500\n",
      "5769/5769 [==============================] - 71s 12ms/step - loss: 2.6003 - acc: 0.5044 - val_loss: 2.1960 - val_acc: 0.6585\n",
      "Epoch 28/500\n",
      "5769/5769 [==============================] - 71s 12ms/step - loss: 2.5986 - acc: 0.5042 - val_loss: 2.1868 - val_acc: 0.6614\n",
      "Epoch 29/500\n",
      "5769/5769 [==============================] - 71s 12ms/step - loss: 2.5672 - acc: 0.5157 - val_loss: 2.2019 - val_acc: 0.6654\n",
      "Epoch 30/500\n",
      "5769/5769 [==============================] - 71s 12ms/step - loss: 2.5793 - acc: 0.5091 - val_loss: 2.1286 - val_acc: 0.6732\n",
      "Epoch 31/500\n",
      "5769/5769 [==============================] - 71s 12ms/step - loss: 2.5840 - acc: 0.5114 - val_loss: 2.1494 - val_acc: 0.6712\n",
      "Epoch 32/500\n",
      "5769/5769 [==============================] - 71s 12ms/step - loss: 2.5655 - acc: 0.5185 - val_loss: 2.1639 - val_acc: 0.6840\n",
      "Epoch 33/500\n",
      "5769/5769 [==============================] - 71s 12ms/step - loss: 2.5616 - acc: 0.5207 - val_loss: 2.1276 - val_acc: 0.6693\n",
      "Epoch 34/500\n",
      "5769/5769 [==============================] - 71s 12ms/step - loss: 2.5372 - acc: 0.5330 - val_loss: 2.1413 - val_acc: 0.6771\n",
      "Epoch 35/500\n",
      "5769/5769 [==============================] - 71s 12ms/step - loss: 2.5618 - acc: 0.5223 - val_loss: 2.1139 - val_acc: 0.6752\n",
      "[2.1219592593878103, 0.6800235710076605]\n",
      "CPU times: user 21min 58s, sys: 8min 1s, total: 30min\n",
      "Wall time: 41min 34s\n"
     ]
    }
   ],
   "source": [
    "%%time\n",
    "\n",
    "batch_size = 32\n",
    "num_classes = classes\n",
    "epochs = 500\n",
    "k_r = 0.01\n",
    "b_r = 0.01\n",
    "dropout = 0.5\n",
    "\n",
    "early_stopping_callback = keras.callbacks.EarlyStopping(monitor='val_acc', min_delta=0, patience=15, verbose=0, mode='auto')\n",
    "\n",
    "model = Sequential()\n",
    "#conv layer \n",
    "model.add(Conv2D(32, kernel_size=(9, 9),\n",
    "                 activation='relu',\n",
    "                  kernel_initializer='he_normal',\n",
    "                  kernel_regularizer=keras.regularizers.l2(k_r),\n",
    "                  bias_regularizer=keras.regularizers.l2(b_r),\n",
    "                 input_shape=input_shape))\n",
    "model.add(MaxPooling2D((3, 3)))\n",
    "# model.add(Dropout(dropout))\n",
    "model.add(Conv2D(64, kernel_size=(3, 3),\n",
    "                 activation='sigmoid',\n",
    "                  kernel_initializer='he_normal',\n",
    "                  kernel_regularizer=keras.regularizers.l2(0.1),\n",
    "                  bias_regularizer=keras.regularizers.l2(0.05)))\n",
    "model.add(MaxPooling2D((2, 2)))\n",
    "model.add(Dropout(dropout))\n",
    "\n",
    "# model.add(Conv2D(64, kernel_size=(3, 3),\n",
    "#                  activation='relu',\n",
    "#                   kernel_initializer='he_normal',\n",
    "#                   kernel_regularizer=keras.regularizers.l2(k_r),\n",
    "#                   bias_regularizer=keras.regularizers.l2(b_r)))\n",
    "# model.add(Conv2D(64, kernel_size=(3, 3),\n",
    "#                  activation='relu',\n",
    "#                   kernel_initializer='he_normal',\n",
    "#                   kernel_regularizer=keras.regularizers.l2(k_r),\n",
    "#                   bias_regularizer=keras.regularizers.l2(b_r)))\n",
    "# model.add(MaxPooling2D((2, 2)))\n",
    "# model.add(Dropout(dropout))\n",
    "\n",
    "# model.add(Conv2D(128, kernel_size=(3, 3),\n",
    "#                  activation='relu',\n",
    "#                   kernel_initializer='he_normal',\n",
    "#                   kernel_regularizer=keras.regularizers.l2(k_r),\n",
    "#                   bias_regularizer=keras.regularizers.l2(b_r)))\n",
    "# model.add(Conv2D(128, kernel_size=(3, 3),\n",
    "#                  activation='relu',\n",
    "#                   kernel_initializer='he_normal',\n",
    "#                   kernel_regularizer=keras.regularizers.l2(k_r),\n",
    "#                   bias_regularizer=keras.regularizers.l2(b_r)))\n",
    "# model.add(MaxPooling2D((2, 2)))\n",
    "# model.add(Dropout(dropout))\n",
    "\n",
    "# NN\n",
    "model.add(Flatten())\n",
    "#hidden layer 1\n",
    "# model.add(Dense(1024, activation='relu'))\n",
    "# model.add(Dropout(0.05))\n",
    "#hidden layer 2\n",
    "model.add(Dense(768, activation='relu', kernel_regularizer=keras.regularizers.l2(k_r)))\n",
    "model.add(Dropout(dropout))\n",
    "#output layer\n",
    "model.add(Dense(num_classes, activation='softmax'))\n",
    "\n",
    "model.compile(loss='categorical_crossentropy',\n",
    "              optimizer='adam',\n",
    "              metrics=['accuracy'])\n",
    "print(model.summary())\n",
    "print(\"\\n############################\")\n",
    "print(\"## Memory usage:\", get_model_memory_usage(batch_size=batch_size, model=model), \"GB ##\")\n",
    "print(\"############################\\n\")\n",
    "\n",
    "history = model.fit(X_train, y_train,\n",
    "          batch_size=batch_size,\n",
    "          epochs=epochs,\n",
    "          verbose=1,\n",
    "          validation_split=0.15,\n",
    "        callbacks = [early_stopping_callback])\n",
    "score = model.evaluate(X_test, y_test, verbose=0)\n",
    "print(score)"
   ]
  },
  {
   "cell_type": "code",
   "execution_count": 9,
   "metadata": {},
   "outputs": [
    {
     "data": {
      "text/plain": [
       "<matplotlib.axes._subplots.AxesSubplot at 0x7fbdce2dd6a0>"
      ]
     },
     "execution_count": 9,
     "metadata": {},
     "output_type": "execute_result"
    },
    {
     "data": {
      "image/png": "[encoded data removed]",
      "text/plain": [
       "<Figure size 432x288 with 1 Axes>"
      ]
     },
     "metadata": {},
     "output_type": "display_data"
    }
   ],
   "source": [
    "dicty = {\n",
    "    'Training Accuracy': history.history['acc'],\n",
    "    'Validation Accuracy': history.history['val_acc'],\n",
    "}\n",
    "sns.lineplot(data=pd.DataFrame(dicty))"
   ]
  },
  {
   "cell_type": "code",
   "execution_count": 12,
   "metadata": {
    "scrolled": true
   },
   "outputs": [
    {
     "name": "stdout",
     "output_type": "stream",
     "text": [
      "Wrong predictions: 369 / 1697 0.7825574543311726\n",
      "ऊ      30\n",
      "ञ      28\n",
      "ध      26\n",
      "थ      18\n",
      "ढ      17\n",
      "व      16\n",
      "ज      15\n",
      "ल      14\n",
      "छ      13\n",
      "ज्ञ    13\n",
      "स      12\n",
      "त      12\n",
      "य      11\n",
      "ड      10\n",
      "प      10\n",
      "च       9\n",
      "झ       8\n",
      "न       8\n",
      "म       7\n",
      "उ       7\n",
      "ट       7\n",
      "श       6\n",
      "र       6\n",
      "ण       6\n",
      "इ       5\n",
      "फ       5\n",
      "ठ       5\n",
      "ए       5\n",
      "भ       4\n",
      "द       4\n",
      "ङ       4\n",
      "क       4\n",
      "क्ष     4\n",
      "ब       4\n",
      "घ       4\n",
      "अ       3\n",
      "त्र     3\n",
      "ग       2\n",
      "ह       2\n",
      "ष       2\n",
      "dtype: int64\n",
      "Wrong predictions: 938 / 6788 0.8618149675898645\n",
      "ढ      57\n",
      "ञ      56\n",
      "ऊ      55\n",
      "व      52\n",
      "ध      48\n",
      "ड      41\n",
      "ज      38\n",
      "स      37\n",
      "छ      35\n",
      "थ      35\n",
      "ल      34\n",
      "झ      32\n",
      "ज्ञ    30\n",
      "य      28\n",
      "न      26\n",
      "इ      26\n",
      "ट      22\n",
      "घ      21\n",
      "म      21\n",
      "च      20\n",
      "प      18\n",
      "त      16\n",
      "भ      16\n",
      "त्र    15\n",
      "द      14\n",
      "ब      14\n",
      "क्ष    14\n",
      "ङ      13\n",
      "श      13\n",
      "ठ      12\n",
      "उ      12\n",
      "ण      11\n",
      "ष       9\n",
      "क       8\n",
      "अ       8\n",
      "फ       8\n",
      "ए       7\n",
      "ग       6\n",
      "र       5\n",
      "ह       3\n",
      "ख       2\n",
      "dtype: int64\n"
     ]
    }
   ],
   "source": [
    "original_model = model\n",
    "# model = keras.models.load_model(os.path.join(pickle_folder, \"RandomCNN_च_76.h5\"))\n",
    "\n",
    "model = original_model\n",
    "\n",
    "predictions = model.predict(X_test)\n",
    "\n",
    "for row in range(len(predictions)):\n",
    "    predictions[row][predictions[row].argmax()] = 1\n",
    "    predictions[row][predictions[row] != 1] = 0\n",
    "\n",
    "false_array = np.all((predictions==y_test), axis=1)\n",
    "num_wrong = (~false_array).sum()\n",
    "print(\"Wrong predictions:\", num_wrong, '/', y_test.shape[0], 1-num_wrong/y_test.shape[0])\n",
    "wrong_walas_1 = pd.Series(list(map(encoding_to_character, predictions[~false_array]))).value_counts()\n",
    "print(wrong_walas_1)\n",
    "\n",
    "\n",
    "predictions = model.predict(X_train)\n",
    "\n",
    "for row in range(len(predictions)):\n",
    "    predictions[row][predictions[row].argmax()] = 1\n",
    "    predictions[row][predictions[row] != 1] = 0\n",
    "\n",
    "false_array = np.all((predictions==y_train), axis=1)\n",
    "num_wrong = (~false_array).sum()\n",
    "print(\"Wrong predictions:\", num_wrong, '/', y_train.shape[0], 1-num_wrong/y_train.shape[0])\n",
    "wrong_walas_2 = pd.Series(list(map(encoding_to_character, predictions[~false_array]))).value_counts()\n",
    "print(wrong_walas_2)"
   ]
  },
  {
   "cell_type": "markdown",
   "metadata": {},
   "source": [
    "count = 10\n",
    "a = ~false_array\n",
    "for i in range(len(a)):\n",
    "    if a[i]:\n",
    "        count -= 1\n",
    "        print(count, encoding_to_character(predictions[i]), encoding_to_character(y_test[i]))\n",
    "        display_image(X_test[i])\n",
    "        if count <= 0:\n",
    "            break"
   ]
  },
  {
   "cell_type": "code",
   "execution_count": 14,
   "metadata": {},
   "outputs": [],
   "source": [
    "file_name = \"RandomCNN_\"+str(wrong_walas_1.argmax())+'_'+str(wrong_walas_1[0])\n",
    "if file_name + '.h5' not in os.listdir(pickle_folder):\n",
    "    save_model(model, os.path.join(pickle_folder, file_name + '.h5'))\n",
    "    f = open(os.path.join(pickle_folder, file_name + '.txt'), 'w')\n",
    "    f.write(str(wrong_walas_1))\n",
    "    f.write(\"\\n\\n\")\n",
    "    f.write(str(wrong_walas_2))\n",
    "    f.close()"
   ]
  }
 ],
 "metadata": {
  "kernelspec": {
   "display_name": "Python 3",
   "language": "python",
   "name": "python3"
  },
  "language_info": {
   "codemirror_mode": {
    "name": "ipython",
    "version": 3
   },
   "file_extension": ".py",
   "mimetype": "text/x-python",
   "name": "python",
   "nbconvert_exporter": "python",
   "pygments_lexer": "ipython3",
   "version": "3.5.2"
  }
 },
 "nbformat": 4,
 "nbformat_minor": 2
}
