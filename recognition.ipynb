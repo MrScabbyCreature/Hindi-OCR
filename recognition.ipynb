{
 "cells": [
  {
   "cell_type": "code",
   "execution_count": 1,
   "metadata": {},
   "outputs": [
    {
     "name": "stderr",
     "output_type": "stream",
     "text": [
      "Using TensorFlow backend.\n"
     ]
    }
   ],
   "source": [
    "import os\n",
    "import numpy as np\n",
    "import pandas as pd\n",
    "import pickle\n",
    "from matplotlib import pyplot as plt\n",
    "from sklearn.model_selection import train_test_split\n",
    "from keras.models import Sequential, load_model\n",
    "# from keras.layers import Dense, Dropout, Activation, Flatten\n",
    "# from keras.utils import np_utils\n",
    "# from keras import optimizers\n",
    "# from keras.applications.xception import Xception, preprocess_input\n",
    "# from keras.applications.resnet50 import ResNet50\n",
    "# from keras.applications.vgg16 import VGG16\n",
    "from keras.applications.vgg19 import VGG19, preprocess_input\n",
    "# from keras.applications.inception_v3 import InceptionV3\n",
    "# from keras.applications.mobilenetv2 import MobileNetV2\n",
    "# from keras.applications.densenet import DenseNet121\n",
    "import cv2\n",
    "# from keras.preprocessing.image import load_img, img_to_array\n",
    "\n",
    "\n",
    "import warnings\n",
    "warnings.filterwarnings('ignore')\n",
    "\n",
    "def display_image(image, title=''):\n",
    "    cv2.imshow(title, image)\n",
    "    cv2.waitKey(0)\n",
    "    cv2.destroyAllWindows()"
   ]
  },
  {
   "cell_type": "code",
   "execution_count": 2,
   "metadata": {},
   "outputs": [],
   "source": [
    "#important variables\n",
    "data_folder = \"segmented_characters\"\n",
    "pickle_folder = \"pickle files\"\n",
    "input_shape=(84, 84, 1)\n",
    "extension = '.jpg'"
   ]
  },
  {
   "cell_type": "markdown",
   "metadata": {},
   "source": [
    "# Display functions and others"
   ]
  },
  {
   "cell_type": "code",
   "execution_count": 3,
   "metadata": {},
   "outputs": [],
   "source": [
    "def display_image(image, title='image'):\n",
    "    '''\n",
    "    uses openCV to display 1 image in a new window\n",
    "    '''\n",
    "    cv2.imshow(title, image)\n",
    "    cv2.waitKey(0)\n",
    "    cv2.destroyAllWindows()\n",
    "    \n",
    "def display_all_in_a_list(image_list, titles=None, scale_factor=1):\n",
    "    '''\n",
    "    image_list: a single image, or a list of images\n",
    "    -----------------------------------\n",
    "    uses matplotlib to display all images in 'image_list' in the same cell\n",
    "    '''\n",
    "    plt.rcParams['figure.figsize'] = [10*scale_factor, len(image_list)*5*scale_factor]\n",
    "    _, axes = plt.subplots(len(image_list), 1)\n",
    "    if len(image_list) == 1:\n",
    "        axes.imshow(image_list[0])\n",
    "        if titles is not None:\n",
    "            axes.set_title(titles[0])\n",
    "    else:\n",
    "        for index in range(len(image_list)):\n",
    "            axes[index].imshow(image_list[index])\n",
    "            if titles is not None:\n",
    "                axes[index].set_title(titles[index])\n",
    "    plt.show()\n",
    "\n",
    "def get_rectangle_boundary(segments, min_area=100):\n",
    "    '''\n",
    "    returns rect_coordinates, np.array(rect_segments)\n",
    "    '''\n",
    "    \n",
    "    new_segments = np.zeros(segments.shape, dtype=segments.dtype)\n",
    "    rect_coords = []\n",
    "\n",
    "    count = 1\n",
    "    for region in regionprops(segments):\n",
    "        if region.area >= min_area:\n",
    "            # draw rectangle around segmented coins\n",
    "            minr, minc, maxr, maxc = region.bbox\n",
    "            rect_coords.append(region.bbox)\n",
    "            new_segments[minr:maxr, minc:maxc] = count\n",
    "            count += 1\n",
    "    \n",
    "    return rect_coords, new_segments"
   ]
  },
  {
   "cell_type": "markdown",
   "metadata": {},
   "source": [
    "# Loading trained CNN"
   ]
  },
  {
   "cell_type": "code",
   "execution_count": 4,
   "metadata": {},
   "outputs": [
    {
     "name": "stdout",
     "output_type": "stream",
     "text": [
      "GPUs: []\n",
      "input shape: (84, 84, 1)\n"
     ]
    }
   ],
   "source": [
    "import tensorflow as tf\n",
    "from keras import backend as k\n",
    " \n",
    "###################################\n",
    "# TensorFlow wizardry\n",
    "config = tf.ConfigProto()\n",
    " \n",
    "# Don't pre-allocate memory; allocate as-needed\n",
    "config.gpu_options.allow_growth = True\n",
    " \n",
    "# Only allow a total of half the GPU memory to be allocated\n",
    "# config.gpu_options.per_process_gpu_memory_fraction = 0.5\n",
    " \n",
    "# Create a session with the above options specified.\n",
    "k.tensorflow_backend.set_session(tf.Session(config=config))\n",
    "\n",
    "\n",
    "print(\"GPUs:\", k.tensorflow_backend._get_available_gpus())\n",
    "\n",
    "print(\"input shape:\", input_shape)"
   ]
  },
  {
   "cell_type": "markdown",
   "metadata": {},
   "source": [
    "creating the model below"
   ]
  },
  {
   "cell_type": "code",
   "execution_count": 5,
   "metadata": {},
   "outputs": [
    {
     "data": {
      "text/plain": [
       "['group_CNNs',\n",
       " 'RandomCNN_न_14.h5',\n",
       " 'RandomCNN_म_16.h5',\n",
       " 'RandomCNN_न_14.txt',\n",
       " 'class_numerals_41.pickle',\n",
       " 'RandomCNN_ऊ_30.txt',\n",
       " 'vgg19',\n",
       " 'RandomCNN_म_16.txt',\n",
       " 'RandomCNN_ऊ_30.h5',\n",
       " 'VGG19_छ_12.h5.h5',\n",
       " 'VGG19_छ_12.h5']"
      ]
     },
     "execution_count": 5,
     "metadata": {},
     "output_type": "execute_result"
    }
   ],
   "source": [
    "model_files = [file for file in os.listdir(pickle_folder)]# if file.split('_')[0]=='RandomCNN']\n",
    "model_files"
   ]
  },
  {
   "cell_type": "code",
   "execution_count": 6,
   "metadata": {
    "scrolled": true
   },
   "outputs": [
    {
     "name": "stdout",
     "output_type": "stream",
     "text": [
      "CPU times: user 1.66 s, sys: 416 ms, total: 2.08 s\n",
      "Wall time: 2.44 s\n"
     ]
    }
   ],
   "source": [
    "%%time\n",
    "\n",
    "import pickle\n",
    "batch_size = 64\n",
    "\n",
    "# models = []\n",
    "\n",
    "#load models\n",
    "model = load_model(os.path.join(pickle_folder, 'RandomCNN_न_14.h5'))\n",
    "# model = load_model(os.path.join(pickle_folder, 'VGG19_त_19.h5'))\n"
   ]
  },
  {
   "cell_type": "markdown",
   "metadata": {},
   "source": [
    "# recognition"
   ]
  },
  {
   "cell_type": "code",
   "execution_count": 7,
   "metadata": {},
   "outputs": [
    {
     "name": "stdout",
     "output_type": "stream",
     "text": [
      "classes 41\n"
     ]
    }
   ],
   "source": [
    "class_numerals_file = [file for file in os.listdir(pickle_folder) if file.split('_')[0]=='class']\n",
    "class_numerals = pickle.load(open(os.path.join(pickle_folder, class_numerals_file[0]), 'rb'))\n",
    "classes = int(class_numerals_file[0].split('_')[-1].split('.')[0])\n",
    "print(\"classes\", classes)\n",
    "del class_numerals_file\n",
    "\n",
    "def character_to_encoding(char, classes=classes):\n",
    "    for i in class_numerals:\n",
    "        if class_numerals[i] == char:\n",
    "            return np_utils.to_categorical(i, classes)\n",
    "\n",
    "def encoding_to_character(encoding):\n",
    "    return class_numerals[encoding.argmax()]"
   ]
  },
  {
   "cell_type": "markdown",
   "metadata": {},
   "source": [
    "for i in range(4):\n",
    "    image = cv2.resize(cv2.cvtColor(cv2.imread(os.path.join(data_folder, str(i)+extension)), cv2.COLOR_RGB2GRAY), (input_shape[0], input_shape[1]))\n",
    "    display_image(image)"
   ]
  },
  {
   "cell_type": "code",
   "execution_count": 9,
   "metadata": {
    "scrolled": true
   },
   "outputs": [
    {
     "name": "stdout",
     "output_type": "stream",
     "text": [
      "प स च च \n",
      "च च च म \n",
      "म \n",
      "च च \n",
      "च प ए प \n",
      "प ए \n",
      "क म \n",
      "च ह \n",
      "थ \n",
      "प च \n",
      "च \n",
      "ष च \n",
      "प र \n",
      "ब र म \n",
      "अ \n",
      "च ट \n",
      "ड ए \n",
      "प न \n",
      "म च च च \n",
      "म \n",
      "च ज \n",
      "थ \n",
      "ब च च क \n",
      "प स \n",
      "क \n",
      "म च ब च \n",
      "प च \n",
      "क ट च ब प \n",
      "म स ज \n",
      "क \n",
      "र व \n",
      "ए च \n",
      "च च \n",
      "च \n",
      "क \n",
      "फ छ च \n",
      "क \n",
      "ङ प च \n",
      "च च च \n",
      "प ए \n",
      "स च \n",
      "च \n",
      "प स \n",
      "च प ट \n",
      "क च \n",
      "म च इ च \n",
      "क \n",
      "प स \n",
      "प ड च \n",
      "ब र \n",
      "च क \n",
      "क य \n",
      "स \n",
      "च अ \n",
      "प ए \n",
      "प च \n",
      "क \n",
      "म स च \n",
      "ब घ \n"
     ]
    }
   ],
   "source": [
    "character_files = os.listdir(data_folder)\n",
    "max_char = max(list(map(lambda x: int(x.split('.')[0]), os.listdir(data_folder))))\n",
    "\n",
    "for i in range(max_char):\n",
    "    if str(i) + extension in character_files:\n",
    "        x = cv2.imread(os.path.join(data_folder, str(i)+extension))        \n",
    "        char_image = cv2.resize(cv2.cvtColor(x, cv2.COLOR_RGB2GRAY), (input_shape[0], input_shape[1]))\n",
    "#         char_image = cv2.resize(preprocess_input(x), (input_shape[0], input_shape[1]))\n",
    "#         display_image(char_image)\n",
    "#         break\n",
    "        prediction = model.predict((char_image/255).reshape((1, input_shape[0], input_shape[1], 1)))\n",
    "        prediction[prediction>0.5] = 1\n",
    "        prediction[prediction<0.5] = 0\n",
    "        print(encoding_to_character(prediction), end=' ')\n",
    "    else:\n",
    "        print()\n",
    "#     break\n",
    "# predictions = [models[i].predict(X_test, batch_size=batch_size) for i in range(3)]"
   ]
  }
 ],
 "metadata": {
  "kernelspec": {
   "display_name": "Python 3",
   "language": "python",
   "name": "python3"
  },
  "language_info": {
   "codemirror_mode": {
    "name": "ipython",
    "version": 3
   },
   "file_extension": ".py",
   "mimetype": "text/x-python",
   "name": "python",
   "nbconvert_exporter": "python",
   "pygments_lexer": "ipython3",
   "version": "3.5.2"
  }
 },
 "nbformat": 4,
 "nbformat_minor": 2
}
